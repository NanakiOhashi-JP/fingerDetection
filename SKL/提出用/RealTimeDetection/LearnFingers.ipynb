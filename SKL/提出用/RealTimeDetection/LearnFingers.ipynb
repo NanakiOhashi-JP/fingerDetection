{
  "cells": [
    {
      "cell_type": "code",
      "execution_count": null,
      "metadata": {
        "id": "zpwvMvkEI_as"
      },
      "outputs": [],
      "source": [
        "import os\n",
        "import cv2\n",
        "import numpy as np\n",
        "from sklearn.ensemble import RandomForestClassifier\n",
        "from sklearn.model_selection import train_test_split\n",
        "from sklearn.metrics import accuracy_score, classification_report\n",
        "import glob\n",
        "import zipfile"
      ]
    },
    {
      "cell_type": "code",
      "execution_count": null,
      "metadata": {
        "id": "ychLA0c1TqgN"
      },
      "outputs": [],
      "source": [
        "\"\"\"\n",
        "#--------------------------------------------------\n",
        "# 【提出に関して】kaggleのAPIキーを入れるのは無理なので、\n",
        "# 一時的に実行可能な形にリファクタリングします。\n",
        "# -------------------------------------------------\n",
        "# Kaggleデータセットのダウンロード（初回のみ）\n",
        "def download_kaggle_dataset():\n",
        "       print(\"Kaggleデータセットをダウンロード中...\")\n",
        "\n",
        "    # Kaggle APIの設定\n",
        "    !pip install kaggle\n",
        "    !mkdir -p ~/.kaggle\n",
        "    !cp /content/drive/MyDrive/kaggle.json ~/.kaggle/\n",
        "    !chmod 600 ~/.kaggle/kaggle.json\n",
        "\n",
        "    # データセットをダウンロード\n",
        "    !kaggle datasets download -d koryakinp/fingers\n",
        "\n",
        "    # ZIPファイルを解凍\n",
        "    !unzip -q fingers.zip -d /content/kaggle_fingers/\n",
        "\n",
        "    print(\"ダウンロード完了\")\n",
        "    \"\"\""
      ]
    },
    {
      "cell_type": "code",
      "execution_count": null,
      "metadata": {
        "id": "gJx3-qP-KJmF"
      },
      "outputs": [],
      "source": [
        "def load_image_resized(image_path, target_size=(64, 64)):\n",
        "    \"\"\"画像を読み込んでリサイズ\"\"\"\n",
        "    image = cv2.imread(image_path)\n",
        "    if image is None:\n",
        "        return None\n",
        "\n",
        "    gray = cv2.cvtColor(image, cv2.COLOR_BGR2GRAY)\n",
        "    resized = cv2.resize(gray, target_size)\n",
        "    return resized.flatten()"
      ]
    },
    {
      "cell_type": "code",
      "execution_count": null,
      "metadata": {
        "id": "aFeiFaakKL7P"
      },
      "outputs": [],
      "source": [
        "def load_your_dataset(base_folder):\n",
        "    \"\"\"データセットを読み込み\"\"\"\n",
        "    print(\"=== データセットを読み込み中 ===\")\n",
        "    X = []\n",
        "    y = []\n",
        "\n",
        "    if not os.path.exists(base_folder):\n",
        "        print(f\"警告: {base_folder} が見つかりません\")\n",
        "        return np.array([]), np.array([])\n",
        "\n",
        "    subfolders = [d for d in os.listdir(base_folder)\n",
        "                  if os.path.isdir(os.path.join(base_folder, d))]\n",
        "\n",
        "    for folder_name in subfolders:\n",
        "        finger_count = int(folder_name.split('-')[0])\n",
        "        folder_path = os.path.join(base_folder, folder_name)\n",
        "\n",
        "        image_files = glob.glob(os.path.join(folder_path, \"*.jpg\")) + \\\n",
        "                     glob.glob(os.path.join(folder_path, \"*.png\"))\n",
        "\n",
        "        print(f\"フォルダ {folder_name} (指の本数: {finger_count}) - 画像数: {len(image_files)}\")\n",
        "\n",
        "        for image_path in image_files:\n",
        "            image_data = load_image_resized(image_path)\n",
        "            if image_data is not None:\n",
        "                X.append(image_data)\n",
        "                y.append(finger_count)\n",
        "\n",
        "    print(f\"あなたのデータセット: {len(X)}枚読み込み完了\")\n",
        "    return np.array(X), np.array(y)\n"
      ]
    },
    {
      "cell_type": "code",
      "execution_count": null,
      "metadata": {
        "id": "KUTb0l4EKZ5S"
      },
      "outputs": [],
      "source": [
        "import re\n",
        "\n",
        "def load_kaggle_dataset(kaggle_folder=\"/content/kaggle_fingers\"):\n",
        "    \"\"\"Kaggleデータセットを読み込み（ファイル名からラベル抽出）\"\"\"\n",
        "    print(\"=== Kaggleデータセットを読み込み中 ===\")\n",
        "    X = []\n",
        "    y = []\n",
        "\n",
        "    target_folders = [\"train\", \"fingers\"]  # 利用対象（\n",
        "\n",
        "    for folder_name in target_folders:\n",
        "        folder_path = os.path.join(kaggle_folder, folder_name)\n",
        "        if not os.path.exists(folder_path):\n",
        "            print(f\"警告: {folder_path} が存在しません\")\n",
        "            continue\n",
        "\n",
        "        image_files = glob.glob(os.path.join(folder_path, \"*.png\")) + \\\n",
        "                      glob.glob(os.path.join(folder_path, \"*.jpg\")) + \\\n",
        "                      glob.glob(os.path.join(folder_path, \"*.jpeg\"))\n",
        "\n",
        "        print(f\"{folder_name}/: 画像数: {len(image_files)}\")\n",
        "\n",
        "        for image_path in image_files:\n",
        "            filename = os.path.basename(image_path)\n",
        "            match = re.search(r\"_([0-5])[RL]\\.\", filename)\n",
        "            if match:\n",
        "                finger_count = int(match.group(1))\n",
        "                image_data = load_image_resized(image_path)\n",
        "                if image_data is not None:\n",
        "                    X.append(image_data)\n",
        "                    y.append(finger_count)\n",
        "            else:\n",
        "                print(f\"ラベル抽出失敗: {filename}\")\n",
        "\n",
        "    print(f\"Kaggleデータセット: {len(X)}枚読み込み完了\")\n",
        "    return np.array(X), np.array(y)\n"
      ]
    },
    {
      "cell_type": "code",
      "execution_count": null,
      "metadata": {
        "id": "cz9ePH1IKart"
      },
      "outputs": [],
      "source": [
        "def combine_datasets(X1, y1, X2, y2):\n",
        "    \"\"\"2つのデータセットを結合\"\"\"\n",
        "    if len(X1) == 0:\n",
        "        return X2, y2\n",
        "    if len(X2) == 0:\n",
        "        return X1, y1\n",
        "\n",
        "    X_combined = np.vstack([X1, X2])\n",
        "    y_combined = np.hstack([y1, y2])\n",
        "\n",
        "    print(f\"結合後のデータセット: {len(X_combined)}枚\")\n",
        "    print(f\"クラス別データ数:\")\n",
        "    for finger_count in sorted(set(y_combined)):\n",
        "        count = np.sum(y_combined == finger_count)\n",
        "        print(f\"  {finger_count}本指: {count}枚\")\n",
        "\n",
        "    return X_combined, y_combined"
      ]
    },
    {
      "cell_type": "code",
      "execution_count": null,
      "metadata": {
        "id": "fZHohX8XKgBc"
      },
      "outputs": [],
      "source": [
        "def train_combined_model():\n",
        "    \"\"\"結合データセットでモデルを訓練\"\"\"\n",
        "\n",
        "    # 1. あなたのデータセットを読み込み\n",
        "    your_data_folder = \"/content/frames\"\n",
        "    X_yours, y_yours = load_your_dataset(your_data_folder)\n",
        "\n",
        "    # 2. Kaggleデータセットを読み込み\n",
        "    X_kaggle, y_kaggle = load_kaggle_dataset()\n",
        "\n",
        "    # 3. データセットを結合\n",
        "    X_combined, y_combined = combine_datasets(X_yours, y_yours, X_kaggle, y_kaggle)\n",
        "\n",
        "    if len(X_combined) == 0:\n",
        "        print(\"エラー: データが読み込めませんでした\")\n",
        "        return None\n",
        "\n",
        "    print(f\"\\n=== モデル訓練開始 ===\")\n",
        "    print(f\"総データ数: {len(X_combined)}枚\")\n",
        "\n",
        "    # データ分割\n",
        "    X_train, X_test, y_train, y_test = train_test_split(\n",
        "        X_combined, y_combined, test_size=0.2, random_state=42, stratify=y_combined\n",
        "    )\n",
        "\n",
        "    print(f\"訓練用: {len(X_train)}枚, テスト用: {len(X_test)}枚\")\n",
        "\n",
        "    # モデル訓練（より大きなデータセットに対応）\n",
        "    model = RandomForestClassifier(\n",
        "        n_estimators=200,  # 木の数を増加\n",
        "        max_depth=15,      # 深さを増加\n",
        "        min_samples_split=5,\n",
        "        min_samples_leaf=2,\n",
        "        random_state=42,\n",
        "        n_jobs=-1\n",
        "    )\n",
        "\n",
        "    print(\"モデル訓練中...\")\n",
        "    model.fit(X_train, y_train)\n",
        "\n",
        "    # 評価\n",
        "    print(\"\\n=== モデル評価 ===\")\n",
        "    y_pred = model.predict(X_test)\n",
        "    accuracy = accuracy_score(y_test, y_pred)\n",
        "\n",
        "    print(f\"テストセット精度: {accuracy:.3f}\")\n",
        "    print(\"\\n詳細な分類レポート:\")\n",
        "    print(classification_report(y_test, y_pred))\n",
        "\n",
        "    # あなたのデータだけでの性能も確認\n",
        "    if len(X_yours) > 0:\n",
        "        print(\"\\n=== あなたのデータのみでの性能 ===\")\n",
        "        your_indices = np.arange(len(X_yours))\n",
        "        if len(your_indices) > 10:  # 十分なデータがある場合\n",
        "            X_your_train, X_your_test, y_your_train, y_your_test = train_test_split(\n",
        "                X_yours, y_yours, test_size=0.3, random_state=42\n",
        "            )\n",
        "            y_your_pred = model.predict(X_your_test)\n",
        "            your_accuracy = accuracy_score(y_your_test, y_your_pred)\n",
        "            print(f\"あなたのデータでの精度: {your_accuracy:.3f}\")\n",
        "\n",
        "    return model"
      ]
    },
    {
      "cell_type": "code",
      "execution_count": null,
      "metadata": {
        "id": "tjdR4hnNKmqO"
      },
      "outputs": [],
      "source": [
        "def save_combined_model(model):\n",
        "    \"\"\"結合学習したモデルを保存\"\"\"\n",
        "    if model is None:\n",
        "        return\n",
        "\n",
        "    import pickle\n",
        "\n",
        "    model_path = \"/content/finger_model_combined_2.pkl\"\n",
        "    with open(model_path, 'wb') as f:\n",
        "        pickle.dump(model, f)\n",
        "\n",
        "    print(f\"\\n結合学習モデルを保存しました: {model_path}\")"
      ]
    },
    {
      "cell_type": "code",
      "execution_count": null,
      "metadata": {
        "colab": {
          "base_uri": "https://localhost:8080/"
        },
        "collapsed": true,
        "id": "rdo4Lyp-XPcl",
        "outputId": "e857f487-a755-4de9-d22a-83b3b6410d02"
      },
      "outputs": [
        {
          "name": "stdout",
          "output_type": "stream",
          "text": [
            "Kaggleデータセットをダウンロード中...\n",
            "Requirement already satisfied: kaggle in /usr/local/lib/python3.11/dist-packages (1.7.4.5)\n",
            "Requirement already satisfied: bleach in /usr/local/lib/python3.11/dist-packages (from kaggle) (6.2.0)\n",
            "Requirement already satisfied: certifi>=14.05.14 in /usr/local/lib/python3.11/dist-packages (from kaggle) (2025.6.15)\n",
            "Requirement already satisfied: charset-normalizer in /usr/local/lib/python3.11/dist-packages (from kaggle) (3.4.2)\n",
            "Requirement already satisfied: idna in /usr/local/lib/python3.11/dist-packages (from kaggle) (3.10)\n",
            "Requirement already satisfied: protobuf in /usr/local/lib/python3.11/dist-packages (from kaggle) (5.29.5)\n",
            "Requirement already satisfied: python-dateutil>=2.5.3 in /usr/local/lib/python3.11/dist-packages (from kaggle) (2.9.0.post0)\n",
            "Requirement already satisfied: python-slugify in /usr/local/lib/python3.11/dist-packages (from kaggle) (8.0.4)\n",
            "Requirement already satisfied: requests in /usr/local/lib/python3.11/dist-packages (from kaggle) (2.32.3)\n",
            "Requirement already satisfied: setuptools>=21.0.0 in /usr/local/lib/python3.11/dist-packages (from kaggle) (75.2.0)\n",
            "Requirement already satisfied: six>=1.10 in /usr/local/lib/python3.11/dist-packages (from kaggle) (1.17.0)\n",
            "Requirement already satisfied: text-unidecode in /usr/local/lib/python3.11/dist-packages (from kaggle) (1.3)\n",
            "Requirement already satisfied: tqdm in /usr/local/lib/python3.11/dist-packages (from kaggle) (4.67.1)\n",
            "Requirement already satisfied: urllib3>=1.15.1 in /usr/local/lib/python3.11/dist-packages (from kaggle) (2.4.0)\n",
            "Requirement already satisfied: webencodings in /usr/local/lib/python3.11/dist-packages (from kaggle) (0.5.1)\n",
            "Dataset URL: https://www.kaggle.com/datasets/koryakinp/fingers\n",
            "License(s): CC0-1.0\n",
            "fingers.zip: Skipping, found more recently modified local copy (use --force to force download)\n",
            "replace /content/kaggle_fingers/fingers/test/000e7aa6-100b-4c6b-9ff0-e7a8e53e4465_5L.png? [y]es, [n]o, [A]ll, [N]one, [r]ename: N\n",
            "ダウンロード完了\n"
          ]
        }
      ],
      "source": [
        "# download_kaggle_dataset()"
      ]
    },
    {
      "cell_type": "code",
      "execution_count": null,
      "metadata": {
        "id": "x3k0QO0QQXwt"
      },
      "outputs": [],
      "source": [
        "# メイン実行\n",
        "if __name__ == \"__main__\":\n",
        "\n",
        "    # モデル訓練\n",
        "    combined_model = train_combined_model()\n",
        "\n",
        "    # モデル保存\n",
        "    save_combined_model(combined_model)\n",
        "\n",
        "    print(\"\\n=== 完了 ===\")"
      ]
    },
    {
      "cell_type": "code",
      "execution_count": null,
      "metadata": {
        "id": "nz6ehfwhUQUQ"
      },
      "outputs": [],
      "source": []
    }
  ],
  "metadata": {
    "colab": {
      "provenance": []
    },
    "kernelspec": {
      "display_name": "Python 3",
      "name": "python3"
    },
    "language_info": {
      "name": "python"
    }
  },
  "nbformat": 4,
  "nbformat_minor": 0
}
